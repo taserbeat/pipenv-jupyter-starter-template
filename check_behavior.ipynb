{
 "cells": [
  {
   "cell_type": "markdown",
   "id": "e7e8e65c-7862-44c5-8986-e4a814a0777c",
   "metadata": {},
   "source": [
    "# 動作確認用のノートブック\n",
    "\n",
    "このノートブックは動作確認の目的で使用するサンプルのノートブックです。"
   ]
  },
  {
   "attachments": {},
   "cell_type": "markdown",
   "id": "b5d693e3-4d76-41ed-9a7d-bbb5f94c7b49",
   "metadata": {},
   "source": [
    "## 1. ライブラリのimport&バージョン確認\n",
    "\n",
    "外部ライブラリのimportする。  \n",
    "また、バージョン番号等の出力も行ってライブラリが正しくインストールできていることを確認する。"
   ]
  },
  {
   "cell_type": "code",
   "execution_count": 1,
   "id": "31f13c0c-b26a-4c22-8637-b1cb02e051e9",
   "metadata": {},
   "outputs": [
    {
     "name": "stdout",
     "output_type": "stream",
     "text": [
      "jupyterlab: 4.4.9\n"
     ]
    }
   ],
   "source": [
    "import jupyterlab\n",
    "\n",
    "print(f\"jupyterlab: {jupyterlab.__version__}\")"
   ]
  },
  {
   "cell_type": "code",
   "execution_count": null,
   "id": "ff8cbca3",
   "metadata": {},
   "outputs": [],
   "source": []
  }
 ],
 "metadata": {
  "kernelspec": {
   "display_name": ".venv",
   "language": "python",
   "name": "python3"
  },
  "language_info": {
   "codemirror_mode": {
    "name": "ipython",
    "version": 3
   },
   "file_extension": ".py",
   "mimetype": "text/x-python",
   "name": "python",
   "nbconvert_exporter": "python",
   "pygments_lexer": "ipython3",
   "version": "3.13.3"
  },
  "vscode": {
   "interpreter": {
    "hash": "53f3296b1c685e304e0e3cb9f83fad368436c176f6cacf1e9abe3fe7e888a056"
   }
  }
 },
 "nbformat": 4,
 "nbformat_minor": 5
}
